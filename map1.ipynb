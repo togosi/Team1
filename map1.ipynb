{
 "cells": [
  {
   "cell_type": "code",
   "execution_count": 2,
   "metadata": {},
   "outputs": [],
   "source": [
    "import tkinter\n",
    "tk = tkinter\n",
    "\n",
    "key = \"\"\n",
    "def key_down(e):\n",
    "    global key\n",
    "    key = e.keysym\n",
    "def key_up(e):\n",
    "    global key\n",
    "    key = \"\"\n",
    "\n",
    "mx = 1\n",
    "my = 1\n",
    "def main_proc():\n",
    "    global mx, my\n",
    "    if key == \"Up\" and maze[my-1][mx] == 0:\n",
    "        my = my - 1\n",
    "    if key == \"Down\" and maze[my+1][mx] == 0:\n",
    "        my = my + 1\n",
    "    if key == \"Left\" and maze[my][mx-1] == 0:\n",
    "        mx = mx - 1\n",
    "    if key == \"Right\" and maze[my][mx+1] == 0:\n",
    "        mx = mx + 1\n",
    "    canvas.coords(\"MYCHR\", mx*20+10, my*20+10)\n",
    "    root.after(100, main_proc)\n",
    "\n",
    "root = tk.Tk()\n",
    "root.title(\"map1\")\n",
    "root.bind(\"<KeyPress>\", key_down)\n",
    "root.bind(\"<KeyRelease>\", key_up)\n",
    "canvas = tk.Canvas(width=880, height=600, bg=\"white\")\n",
    "canvas.pack()\n",
    "\n",
    "maze = [\n",
    "    [1,1,1,1,1, 1,1,1,1,1, 1,1,1,1,1, 1,1,1,1,1,],#５ｘ５にすることで見やすくしているつもり\n",
    "    [1,0,0,0,0, 0,0,0,0,0, 0,0,0,0,0, 0,0,0,0,1,],\n",
    "    [1,0,0,0,0, 0,0,0,0,0, 0,0,0,0,0, 0,0,0,0,1,],\n",
    "    [1,0,0,0,0, 0,0,0,0,0, 0,0,0,0,0, 0,0,0,0,1,],\n",
    "    [1,0,0,0,0, 0,0,0,0,0, 0,0,0,0,0, 0,0,0,0,1,],\n",
    "\n",
    "    [1,0,0,0,0, 0,0,0,0,0, 0,0,0,0,0, 0,0,0,0,1,],\n",
    "    [1,0,0,0,0, 0,0,0,0,0, 0,0,0,0,0, 0,0,0,0,1,],\n",
    "    [1,0,0,0,0, 0,0,0,0,0, 0,0,0,0,0, 0,0,0,0,1,],\n",
    "    [1,0,0,0,0, 0,0,0,0,0, 0,0,0,0,0, 0,0,0,0,1,],\n",
    "    [1,0,0,0,0, 0,0,0,0,0, 0,0,0,0,0, 0,0,0,0,1,],\n",
    "    \n",
    "    [1,0,0,0,0, 0,0,0,0,0, 0,0,0,0,0, 0,0,0,0,1,],\n",
    "    [1,0,0,0,0, 0,0,0,0,0, 0,0,0,0,0, 0,0,0,0,1,],\n",
    "    [1,0,0,0,0, 0,0,0,0,0, 0,0,0,0,0, 0,0,0,0,1,],\n",
    "    [1,0,0,0,0, 0,0,0,0,0, 0,0,0,0,0, 0,0,0,0,1,],\n",
    "    [1,0,0,0,0, 0,0,0,0,0, 0,0,0,0,0, 0,0,0,0,1,],\n",
    "\n",
    "    [1,0,0,0,0, 0,0,0,0,0, 0,0,0,0,0, 0,0,0,0,1,],\n",
    "    [1,0,0,0,0, 0,0,0,0,0, 0,0,0,0,0, 0,0,0,0,1,],\n",
    "    [1,0,0,0,0, 0,0,0,0,0, 0,0,0,0,0, 0,0,0,0,1,],\n",
    "    [1,0,0,0,0, 0,0,0,0,0, 0,0,0,0,0, 0,0,0,0,1,],\n",
    "    [1,1,1,1,1, 1,1,1,1,1, 1,1,1,1,1, 1,1,1,1,1,],\n",
    "    ]\n",
    "\n",
    "for y in range (20):\n",
    "    for x in range(20):\n",
    "        if maze[y][x] == 1:\n",
    "            canvas.create_rectangle(x*20, y*20, x*20+19, y*20+19, fill=\"black\", width=0)\n",
    "\n",
    "img = tkinter.PhotoImage(file=\"mimi_ss.png\")#プレイヤ－の画像をpngで入れてくれ\n",
    "canvas.create_image(mx*20+10, my*20+10, image=img, tag=\"MYCHR\")\n",
    "main_proc()\n",
    "root.mainloop()"
   ]
  }
 ],
 "metadata": {
  "kernelspec": {
   "display_name": "Python 3.10.6 64-bit (windows store)",
   "language": "python",
   "name": "python3"
  },
  "language_info": {
   "codemirror_mode": {
    "name": "ipython",
    "version": 3
   },
   "file_extension": ".py",
   "mimetype": "text/x-python",
   "name": "python",
   "nbconvert_exporter": "python",
   "pygments_lexer": "ipython3",
   "version": "3.10.6"
  },
  "orig_nbformat": 4,
  "vscode": {
   "interpreter": {
    "hash": "5b967d6e93849e3d1747ec8671489f9c2683ca56f9a2a2039f5ca64d74d0eb7d"
   }
  }
 },
 "nbformat": 4,
 "nbformat_minor": 2
}
