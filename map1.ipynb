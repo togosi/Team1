{
 "cells": [
  {
   "cell_type": "code",
   "execution_count": 1,
   "metadata": {},
   "outputs": [
    {
     "ename": "TclError",
     "evalue": "couldn't open \"mimi_ss.png\": no such file or directory",
     "output_type": "error",
     "traceback": [
      "\u001b[1;31m---------------------------------------------------------------------------\u001b[0m",
      "\u001b[1;31mTclError\u001b[0m                                  Traceback (most recent call last)",
      "\u001b[1;32mセル1 を c:\\Users\\kurat\\pyworks\\Team1\\map1.ipynb\u001b[0m in \u001b[0;36m<cell line: 65>\u001b[1;34m()\u001b[0m\n\u001b[0;32m     <a href='vscode-notebook-cell:/c%3A/Users/kurat/pyworks/Team1/map1.ipynb#W0sZmlsZQ%3D%3D?line=61'>62</a>\u001b[0m         \u001b[39mif\u001b[39;00m maze[y][x] \u001b[39m==\u001b[39m \u001b[39m1\u001b[39m:\n\u001b[0;32m     <a href='vscode-notebook-cell:/c%3A/Users/kurat/pyworks/Team1/map1.ipynb#W0sZmlsZQ%3D%3D?line=62'>63</a>\u001b[0m             canvas\u001b[39m.\u001b[39mcreate_rectangle(x\u001b[39m*\u001b[39m\u001b[39m20\u001b[39m, y\u001b[39m*\u001b[39m\u001b[39m20\u001b[39m, x\u001b[39m*\u001b[39m\u001b[39m20\u001b[39m\u001b[39m+\u001b[39m\u001b[39m19\u001b[39m, y\u001b[39m*\u001b[39m\u001b[39m20\u001b[39m\u001b[39m+\u001b[39m\u001b[39m19\u001b[39m, fill\u001b[39m=\u001b[39m\u001b[39m\"\u001b[39m\u001b[39mblack\u001b[39m\u001b[39m\"\u001b[39m, width\u001b[39m=\u001b[39m\u001b[39m0\u001b[39m)\n\u001b[1;32m---> <a href='vscode-notebook-cell:/c%3A/Users/kurat/pyworks/Team1/map1.ipynb#W0sZmlsZQ%3D%3D?line=64'>65</a>\u001b[0m img \u001b[39m=\u001b[39m tkinter\u001b[39m.\u001b[39;49mPhotoImage(file\u001b[39m=\u001b[39;49m\u001b[39m\"\u001b[39;49m\u001b[39mmimi_ss.png\u001b[39;49m\u001b[39m\"\u001b[39;49m)\u001b[39m#プレイヤ－の画像をpngで入れてくれ\u001b[39;00m\n\u001b[0;32m     <a href='vscode-notebook-cell:/c%3A/Users/kurat/pyworks/Team1/map1.ipynb#W0sZmlsZQ%3D%3D?line=65'>66</a>\u001b[0m canvas\u001b[39m.\u001b[39mcreate_image(mx\u001b[39m*\u001b[39m\u001b[39m20\u001b[39m\u001b[39m+\u001b[39m\u001b[39m10\u001b[39m, my\u001b[39m*\u001b[39m\u001b[39m20\u001b[39m\u001b[39m+\u001b[39m\u001b[39m10\u001b[39m, image\u001b[39m=\u001b[39mimg, tag\u001b[39m=\u001b[39m\u001b[39m\"\u001b[39m\u001b[39mMYCHR\u001b[39m\u001b[39m\"\u001b[39m)\n\u001b[0;32m     <a href='vscode-notebook-cell:/c%3A/Users/kurat/pyworks/Team1/map1.ipynb#W0sZmlsZQ%3D%3D?line=66'>67</a>\u001b[0m main_proc()\n",
      "File \u001b[1;32mC:\\Program Files\\WindowsApps\\PythonSoftwareFoundation.Python.3.10_3.10.1776.0_x64__qbz5n2kfra8p0\\lib\\tkinter\\__init__.py:4093\u001b[0m, in \u001b[0;36mPhotoImage.__init__\u001b[1;34m(self, name, cnf, master, **kw)\u001b[0m\n\u001b[0;32m   4088\u001b[0m \u001b[39mdef\u001b[39;00m \u001b[39m__init__\u001b[39m(\u001b[39mself\u001b[39m, name\u001b[39m=\u001b[39m\u001b[39mNone\u001b[39;00m, cnf\u001b[39m=\u001b[39m{}, master\u001b[39m=\u001b[39m\u001b[39mNone\u001b[39;00m, \u001b[39m*\u001b[39m\u001b[39m*\u001b[39mkw):\n\u001b[0;32m   4089\u001b[0m     \u001b[39m\"\"\"Create an image with NAME.\u001b[39;00m\n\u001b[0;32m   4090\u001b[0m \n\u001b[0;32m   4091\u001b[0m \u001b[39m    Valid resource names: data, format, file, gamma, height, palette,\u001b[39;00m\n\u001b[0;32m   4092\u001b[0m \u001b[39m    width.\"\"\"\u001b[39;00m\n\u001b[1;32m-> 4093\u001b[0m     Image\u001b[39m.\u001b[39m\u001b[39m__init__\u001b[39m(\u001b[39mself\u001b[39m, \u001b[39m'\u001b[39m\u001b[39mphoto\u001b[39m\u001b[39m'\u001b[39m, name, cnf, master, \u001b[39m*\u001b[39m\u001b[39m*\u001b[39mkw)\n",
      "File \u001b[1;32mC:\\Program Files\\WindowsApps\\PythonSoftwareFoundation.Python.3.10_3.10.1776.0_x64__qbz5n2kfra8p0\\lib\\tkinter\\__init__.py:4038\u001b[0m, in \u001b[0;36mImage.__init__\u001b[1;34m(self, imgtype, name, cnf, master, **kw)\u001b[0m\n\u001b[0;32m   4036\u001b[0m         v \u001b[39m=\u001b[39m \u001b[39mself\u001b[39m\u001b[39m.\u001b[39m_register(v)\n\u001b[0;32m   4037\u001b[0m     options \u001b[39m=\u001b[39m options \u001b[39m+\u001b[39m (\u001b[39m'\u001b[39m\u001b[39m-\u001b[39m\u001b[39m'\u001b[39m\u001b[39m+\u001b[39mk, v)\n\u001b[1;32m-> 4038\u001b[0m \u001b[39mself\u001b[39;49m\u001b[39m.\u001b[39;49mtk\u001b[39m.\u001b[39;49mcall((\u001b[39m'\u001b[39;49m\u001b[39mimage\u001b[39;49m\u001b[39m'\u001b[39;49m, \u001b[39m'\u001b[39;49m\u001b[39mcreate\u001b[39;49m\u001b[39m'\u001b[39;49m, imgtype, name,) \u001b[39m+\u001b[39;49m options)\n\u001b[0;32m   4039\u001b[0m \u001b[39mself\u001b[39m\u001b[39m.\u001b[39mname \u001b[39m=\u001b[39m name\n",
      "\u001b[1;31mTclError\u001b[0m: couldn't open \"mimi_ss.png\": no such file or directory"
     ]
    }
   ],
   "source": [
    "import tkinter\n",
    "tk = tkinter\n",
    "\n",
    "key = \"\"\n",
    "def key_down(e):\n",
    "    global key\n",
    "    key = e.keysym\n",
    "def key_up(e):\n",
    "    global key\n",
    "    key = \"\"\n",
    "\n",
    "mx = 1\n",
    "my = 1\n",
    "def main_proc():\n",
    "    global mx, my\n",
    "    if key == \"Up\" and maze[my-1][mx] == 0:\n",
    "        my = my - 1\n",
    "    if key == \"Down\" and maze[my+1][mx] == 0:\n",
    "        my = my + 1\n",
    "    if key == \"Left\" and maze[my][mx-1] == 0:\n",
    "        mx = mx - 1\n",
    "    if key == \"Right\" and maze[my][mx+1] == 0:\n",
    "        mx = mx + 1\n",
    "    canvas.coords(\"MYCHR\", mx*20+10, my*20+10)\n",
    "    root.after(100, main_proc)\n",
    "\n",
    "root = tk.Tk()\n",
    "root.title(\"map1\")\n",
    "root.bind(\"<KeyPress>\", key_down)\n",
    "root.bind(\"<KeyRelease>\", key_up)\n",
    "canvas = tk.Canvas(width=880, height=600, bg=\"white\")\n",
    "canvas.pack()\n",
    "\n",
    "maze = [\n",
    "    [1,1,1,1,1, 1,1,1,1,1, 1,1,1,1,1, 1,1,1,1,1,],#５ｘ５にすることで見やすくしているつもり\n",
    "    [1,0,0,0,0, 0,0,0,0,0, 0,0,0,0,0, 0,0,0,0,1,],\n",
    "    [1,0,0,0,0, 0,0,0,0,0, 0,0,0,0,0, 0,0,0,0,1,],\n",
    "    [1,0,0,0,0, 0,0,0,0,0, 0,0,0,0,0, 0,0,0,0,1,],\n",
    "    [1,0,0,0,0, 0,0,0,0,0, 0,0,0,0,0, 0,0,0,0,1,],\n",
    "\n",
    "    [1,0,0,0,0, 0,0,0,0,0, 0,0,0,0,0, 0,0,0,0,1,],\n",
    "    [1,0,0,0,0, 0,0,0,0,0, 0,0,0,0,0, 0,0,0,0,1,],\n",
    "    [1,0,0,0,0, 0,0,0,0,0, 0,0,0,0,0, 0,0,0,0,1,],\n",
    "    [1,0,0,0,0, 0,0,0,0,0, 0,0,0,0,0, 0,0,0,0,1,],\n",
    "    [1,0,0,0,0, 0,0,0,0,0, 0,0,0,0,0, 0,0,0,0,1,],\n",
    "    \n",
    "    [1,0,0,0,0, 0,0,0,0,0, 0,0,0,0,0, 0,0,0,0,1,],\n",
    "    [1,0,0,0,0, 0,0,0,0,0, 0,0,0,0,0, 0,0,0,0,1,],\n",
    "    [1,0,0,0,0, 0,0,0,0,0, 0,0,0,0,0, 0,0,0,0,1,],\n",
    "    [1,0,0,0,0, 0,0,0,0,0, 0,0,0,0,0, 0,0,0,0,1,],\n",
    "    [1,0,0,0,0, 0,0,0,0,0, 0,0,0,0,0, 0,0,0,0,1,],\n",
    "\n",
    "    [1,0,0,0,0, 0,0,0,0,0, 0,0,0,0,0, 0,0,0,0,1,],\n",
    "    [1,0,0,0,0, 0,0,0,0,0, 0,0,0,0,0, 0,0,0,0,1,],\n",
    "    [1,0,0,0,0, 0,0,0,0,0, 0,0,0,0,0, 0,0,0,0,1,],\n",
    "    [1,0,0,0,0, 0,0,0,0,0, 0,0,0,0,0, 0,0,0,0,1,],\n",
    "    [1,1,1,1,1, 1,1,1,1,1, 1,1,1,1,1, 1,1,1,1,1,],\n",
    "    ]\n",
    "\n",
    "for y in range (20):\n",
    "    for x in range(20):\n",
    "        if maze[y][x] == 1:\n",
    "            canvas.create_rectangle(x*20, y*20, x*20+19, y*20+19, fill=\"black\", width=0)\n",
    "\n",
    "img = tkinter.PhotoImage(file=\"mimi_ss.png\")#プレイヤ－の画像をpngで入れてくれ\n",
    "canvas.create_image(mx*20+10, my*20+10, image=img, tag=\"MYCHR\")\n",
    "main_proc()\n",
    "root.mainloop()"
   ]
  }
 ],
 "metadata": {
  "kernelspec": {
   "display_name": "Python 3.10.6 64-bit (windows store)",
   "language": "python",
   "name": "python3"
  },
  "language_info": {
   "codemirror_mode": {
    "name": "ipython",
    "version": 3
   },
   "file_extension": ".py",
   "mimetype": "text/x-python",
   "name": "python",
   "nbconvert_exporter": "python",
   "pygments_lexer": "ipython3",
   "version": "3.10.6"
  },
  "orig_nbformat": 4,
  "vscode": {
   "interpreter": {
    "hash": "5b967d6e93849e3d1747ec8671489f9c2683ca56f9a2a2039f5ca64d74d0eb7d"
   }
  }
 },
 "nbformat": 4,
 "nbformat_minor": 2
}
